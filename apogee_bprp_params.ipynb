{
 "cells": [
  {
   "cell_type": "code",
   "execution_count": 4,
   "metadata": {},
   "outputs": [],
   "source": [
    "import numpy as np\n",
    "from astropy.table import Table\n",
    "import thecannon as tc"
   ]
  },
  {
   "cell_type": "code",
   "execution_count": null,
   "metadata": {},
   "outputs": [],
   "source": [
    "#paths\n",
    "table_path = '/home/mrl2068/Desktop/CEMP/'\n",
    "spec_path = '/home/mrl2068/Desktop/CEMP/' #assumes spec are in directory 'apogee' inside this path\n",
    "fig_path = '/home/mrl2968/Desktop/CEMP/DR3_feh/'"
   ]
  },
  {
   "cell_type": "code",
   "execution_count": 5,
   "metadata": {},
   "outputs": [],
   "source": [
    "t = Table.read(table_path+'synth_apogee_0.fits')\n",
    "t = t[t['synth']]\n"
   ]
  },
  {
   "cell_type": "code",
   "execution_count": null,
   "metadata": {},
   "outputs": [],
   "source": [
    "#loading in spec with max normalization\n",
    "\n",
    "\n",
    "for i in range(len(t)):\n",
    "    Teff = t['Teff'][i] ; logg = t['logg'][i] ; feh = t['feh'][i] ;  a = t['A_v'][i] ; s = t['SNR'][i]\n",
    "    filename = '%s_g%s_f%s_a%s_n%s.txt'%(str(Teff),str(logg),str(feh),str(a),str(s))\n",
    "    try:\n",
    "        w, fbp, ebp = np.loadtxt(spec_path+'apogee/Bp_'+filename,usecols=(0,1,2),skiprows=1,unpack=True)\n",
    "        wr, frp, erp = np.loadtxt(spec_path+'/apogee/Rp_'+filename,usecols=(0,1,2),skiprows=1,unpack=True)\n",
    "    except:  \n",
    "        try:\n",
    "            formatter = \"{0:.12g}\"\n",
    "            Teff2 = formatter.format(Teff)\n",
    "            logg2 = formatter.format(logg)\n",
    "            feh2 = formatter.format(feh)\n",
    "            s2 = formatter.format(s)\n",
    "            a2 = formatter.format(a)\n",
    "            filename = '%s_g%s_f%s_a%s_n%s.txt'%(str(Teff2),str(logg2),str(feh2),str(a2),str(s2))\n",
    "            w, fbp, ebp = np.loadtxt(spec_path+'apogee/Bp_'+filename,usecols=(0,1,2),skiprows=1,unpack=True)\n",
    "            wr, frp, erp = np.loadtxt(spec_path+'apogee/Rp_'+filename,usecols=(0,1,2),skiprows=1,unpack=True)\n",
    "        except:\n",
    "            try:\n",
    "                formatter = \"{0:.12g}\"\n",
    "                logg2 = formatter.format(logg)\n",
    "                feh2 = formatter.format(feh)\n",
    "                s2 = formatter.format(s)\n",
    "                a2 = formatter.format(a)\n",
    "                filename = '%s_g%s_f%s_a%s_n%s.txt'%(str(Teff),str(logg2),str(feh2),str(a2),str(s2))\n",
    "                w, fbp, ebp = np.loadtxt(spec_path+'apogee/Bp_'+filename,usecols=(0,1,2),skiprows=1,unpack=True)\n",
    "                wr, frp, erp = np.loadtxt(spec_path+'apogee/Rp_'+filename,usecols=(0,1,2),skiprows=1,unpack=True)\n",
    "            except:\n",
    "                formatter = \"{0:.12g}\"\n",
    "                Teff2 = formatter.format(Teff)\n",
    "                logg2 = formatter.format(logg)\n",
    "                feh2 = formatter.format(feh)\n",
    "                a2 = formatter.format(a)\n",
    "                s = \"{0:.1f}\".format(s)\n",
    "                filename = '%s_g%s_f%s_a%s_n%s.txt'%(str(Teff2),str(logg2),str(feh2),str(a2),str(s))\n",
    "                w, fbp, ebp = np.loadtxt(spec_path+'apogee/Bp_'+filename,usecols=(0,1,2),skiprows=1,unpack=True)\n",
    "                wr, frp, erp = np.loadtxt(spec_path+'apogee/Rp_'+filename,usecols=(0,1,2),skiprows=1,unpack=True)\n",
    "    w = w[~np.isnan(ebp)]\n",
    "    wr = wr[~np.isnan(erp)]\n",
    "    fbp = fbp[~np.isnan(ebp)]\n",
    "    ebp = ebp[~np.isnan(ebp)]\n",
    "    frp = frp[~np.isnan(erp)]\n",
    "    erp = erp[~np.isnan(erp)]\n",
    "   \n",
    "    if i == 0:\n",
    "        xs = np.zeros((len(t),len(np.concatenate([fbp,frp]))))\n",
    "        xerrs = np.zeros((len(t),len(np.concatenate([fbp,frp]))))\n",
    "        \n",
    "    f = np.concatenate([fbp,frp])\n",
    "    errs = 1.0/np.sqrt(np.concatenate([ebp,erp]))\n",
    "    \n",
    "    xs[i,:] = f/np.max(f)\n",
    "    \n",
    "\n",
    "    xerrs[i,:] = errs/np.max(errs)\n",
    "    wf = np.concatenate([w,wr])\n",
    "    "
   ]
  },
  {
   "cell_type": "code",
   "execution_count": null,
   "metadata": {},
   "outputs": [],
   "source": [
    "#making training and testing sets\n",
    "\n",
    "train_inds = np.random.choice(range(len(t)),int(.6*len(t)),replace=False)\n",
    "test_inds = set(range(len(t)))- set(train_inds)\n",
    "\n",
    "\n",
    "train_xs = xs[train_inds]\n",
    "train_errs = xerrs[train_inds]\n",
    "\n",
    "test_xs = xs[test_inds]\n",
    "test_errs = xerrs[test_inds]\n",
    "\n",
    "train_t = t[train_inds]"
   ]
  },
  {
   "cell_type": "code",
   "execution_count": null,
   "metadata": {},
   "outputs": [],
   "source": [
    "# set up model\n",
    "vectorizer = tc.vectorizer.PolynomialVectorizer((\"Teff\", \"logg\", \"feh\",\"A_v\"), 2)\n",
    "\n",
    "model = tc.CannonModel(train_t, train_xs, train_errs,\n",
    "                       vectorizer=vectorizer, dispersion=wf, threads=-1)\n",
    "\n",
    "# Train the model!\n",
    "model.train()\n"
   ]
  },
  {
   "cell_type": "code",
   "execution_count": null,
   "metadata": {},
   "outputs": [],
   "source": [
    "#infer for train\n",
    "test_labels, cov, metadata = model.test(test_xs, test_errs)\n",
    "\n",
    "fig_comparison = tc.plot.one_to_one(model, test_labels, latex_label_names=[r\"T_{\\rm eff}\",r\"\\log{g}\",r\"[{\\rm Fe}/{\\rm H}]\",r\"{\\rm A_V}\"])\n",
    "fig_comparison.savefig(fig_path+\"one-to-one.png\", dpi=300)\n"
   ]
  }
 ],
 "metadata": {
  "kernelspec": {
   "display_name": "Python 3",
   "language": "python",
   "name": "python3"
  },
  "language_info": {
   "codemirror_mode": {
    "name": "ipython",
    "version": 3
   },
   "file_extension": ".py",
   "mimetype": "text/x-python",
   "name": "python",
   "nbconvert_exporter": "python",
   "pygments_lexer": "ipython3",
   "version": "3.7.3"
  }
 },
 "nbformat": 4,
 "nbformat_minor": 2
}
